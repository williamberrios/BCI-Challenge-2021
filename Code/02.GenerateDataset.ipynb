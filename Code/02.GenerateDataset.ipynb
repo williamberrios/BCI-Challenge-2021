{
 "cells": [
  {
   "cell_type": "code",
   "execution_count": 1,
   "id": "81d4c47c",
   "metadata": {},
   "outputs": [],
   "source": [
    "import pandas as pd\n",
    "import os\n",
    "import numpy as np\n",
    "from sklearn.metrics import mean_absolute_error\n",
    "from sklearn.model_selection import StratifiedGroupKFold,StratifiedKFold\n",
    "from iterstrat.ml_stratifiers import MultilabelStratifiedKFold\n",
    "pd.options.display.max_rows = 999\n",
    "DATA_PATH = '../Data/Data desafío BCI Challenge/'\n",
    "FOLDS = 5\n",
    "SEED  = 42"
   ]
  },
  {
   "cell_type": "code",
   "execution_count": 2,
   "id": "2ee1e5f1",
   "metadata": {},
   "outputs": [
    {
     "name": "stdout",
     "output_type": "stream",
     "text": [
      "CPU times: user 3 s, sys: 497 ms, total: 3.5 s\n",
      "Wall time: 3.5 s\n"
     ]
    }
   ],
   "source": [
    "%%time\n",
    "train_df = pd.read_csv(os.path.join(DATA_PATH,'train_data.csv'))\n",
    "test_df  = pd.read_csv(os.path.join(DATA_PATH,'test_data.csv'))"
   ]
  },
  {
   "cell_type": "markdown",
   "id": "4859a53f",
   "metadata": {},
   "source": [
    "# Generated Datasets"
   ]
  },
  {
   "cell_type": "markdown",
   "id": "1b56ce04",
   "metadata": {},
   "source": [
    "## 1.Binning the Target Mes:"
   ]
  },
  {
   "cell_type": "code",
   "execution_count": 6,
   "id": "4b2cd55c",
   "metadata": {},
   "outputs": [],
   "source": [
    "n_bins = 7\n",
    "train_df['target_bin'] = train_df.groupby(['mes'])['target_mes'].transform(lambda x: pd.qcut(x, n_bins))\n",
    "from sklearn import preprocessing\n",
    "le = preprocessing.LabelEncoder()\n",
    "train_df['target_bin'] = le.fit_transform(train_df['target_bin'])"
   ]
  },
  {
   "cell_type": "markdown",
   "id": "e4b69cff",
   "metadata": {},
   "source": [
    "# New Clients Model:\n",
    "+ In this case clients that appear in train, does not appear in test\n",
    "    + Months: [201802-202104]\n",
    "+ Apply groupkfold on id for predicting in new clients\n",
    "    + Use train data from 201802 - 202104**"
   ]
  },
  {
   "cell_type": "code",
   "execution_count": 7,
   "id": "3a39bbd1",
   "metadata": {},
   "outputs": [],
   "source": [
    "skf = StratifiedGroupKFold(n_splits = FOLDS,shuffle = True, random_state = SEED)\n",
    "df_fold = train_df[train_df['mes']<=202104].reset_index(drop = True)\n",
    "for fold,(train_index, test_index) in enumerate(skf.split(df_fold,df_fold['target_bin'],df_fold['id'])):\n",
    "    df_fold.loc[test_index,'fold'] = fold\n",
    "df_fold.drop(columns = ['target_bin']).to_parquet(os.path.join(\"../Data/DatasetsGenerated\",'folds_new_clients_model.parquet.gzip'),index = False,compression = 'gzip')"
   ]
  },
  {
   "cell_type": "code",
   "execution_count": 8,
   "id": "0972acd3",
   "metadata": {},
   "outputs": [
    {
     "data": {
      "text/html": [
       "<div>\n",
       "<style scoped>\n",
       "    .dataframe tbody tr th:only-of-type {\n",
       "        vertical-align: middle;\n",
       "    }\n",
       "\n",
       "    .dataframe tbody tr th {\n",
       "        vertical-align: top;\n",
       "    }\n",
       "\n",
       "    .dataframe thead th {\n",
       "        text-align: right;\n",
       "    }\n",
       "</style>\n",
       "<table border=\"1\" class=\"dataframe\">\n",
       "  <thead>\n",
       "    <tr style=\"text-align: right;\">\n",
       "      <th></th>\n",
       "      <th>fold</th>\n",
       "      <th>target_mes</th>\n",
       "    </tr>\n",
       "  </thead>\n",
       "  <tbody>\n",
       "    <tr>\n",
       "      <th>0</th>\n",
       "      <td>0.0</td>\n",
       "      <td>183.351777</td>\n",
       "    </tr>\n",
       "    <tr>\n",
       "      <th>1</th>\n",
       "      <td>1.0</td>\n",
       "      <td>194.849639</td>\n",
       "    </tr>\n",
       "    <tr>\n",
       "      <th>2</th>\n",
       "      <td>2.0</td>\n",
       "      <td>184.686757</td>\n",
       "    </tr>\n",
       "    <tr>\n",
       "      <th>3</th>\n",
       "      <td>3.0</td>\n",
       "      <td>180.038005</td>\n",
       "    </tr>\n",
       "    <tr>\n",
       "      <th>4</th>\n",
       "      <td>4.0</td>\n",
       "      <td>177.548542</td>\n",
       "    </tr>\n",
       "  </tbody>\n",
       "</table>\n",
       "</div>"
      ],
      "text/plain": [
       "   fold  target_mes\n",
       "0   0.0  183.351777\n",
       "1   1.0  194.849639\n",
       "2   2.0  184.686757\n",
       "3   3.0  180.038005\n",
       "4   4.0  177.548542"
      ]
     },
     "execution_count": 8,
     "metadata": {},
     "output_type": "execute_result"
    }
   ],
   "source": [
    "df_fold.groupby(['fold']).target_mes.mean().reset_index()"
   ]
  },
  {
   "cell_type": "markdown",
   "id": "6c83ba9b",
   "metadata": {},
   "source": [
    "## Behavior Model & Future companies with no previous target\n",
    "+ Stratified Kfold: ['target_bin']\n",
    "+ Predict sales for clients which you already have information\n",
    "    + Test months : [202105-202109]\n",
    "+ For Stratified you can use mes and target_bin\n",
    "    + Use train data from 201802 - 202109**\n",
    "**Another idea could be a time split validation[check the tendency for those clients]** \n",
    "\n",
    "**You could optimize only in the clients that are on the test**"
   ]
  },
  {
   "cell_type": "code",
   "execution_count": 11,
   "id": "bd0745c8",
   "metadata": {},
   "outputs": [],
   "source": [
    "skf = StratifiedKFold(n_splits = FOLDS,shuffle = True, random_state = SEED)\n",
    "df_fold = train_df.copy()\n",
    "for fold,(train_index, test_index) in enumerate(skf.split(df_fold,df_fold['target_bin'])):\n",
    "    df_fold.loc[test_index,'fold'] = fold\n",
    "df_fold.drop(columns = ['target_bin']).to_parquet(os.path.join(\"../Data/DatasetsGenerated\",'folds_behavior_clients_model.parquet.gzip'),index = False,compression = 'gzip')"
   ]
  }
 ],
 "metadata": {
  "kernelspec": {
   "display_name": "Python 3",
   "language": "python",
   "name": "python3"
  },
  "language_info": {
   "codemirror_mode": {
    "name": "ipython",
    "version": 3
   },
   "file_extension": ".py",
   "mimetype": "text/x-python",
   "name": "python",
   "nbconvert_exporter": "python",
   "pygments_lexer": "ipython3",
   "version": "3.8.10"
  }
 },
 "nbformat": 4,
 "nbformat_minor": 5
}
